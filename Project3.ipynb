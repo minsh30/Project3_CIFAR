{
  "nbformat": 4,
  "nbformat_minor": 0,
  "metadata": {
    "colab": {
      "name": "Project3.ipynb",
      "provenance": []
    },
    "kernelspec": {
      "name": "python3",
      "display_name": "Python 3"
    }
  },
  "cells": [
    {
      "cell_type": "markdown",
      "metadata": {
        "id": "RJ5FgpzeVZ2m",
        "colab_type": "text"
      },
      "source": [
        "# Minshu Dubey"
      ]
    },
    {
      "cell_type": "markdown",
      "metadata": {
        "id": "YOGRgXn2Vd14",
        "colab_type": "text"
      },
      "source": [
        "# Project 3"
      ]
    },
    {
      "cell_type": "markdown",
      "metadata": {
        "id": "Z7AVOu3cVgkO",
        "colab_type": "text"
      },
      "source": [
        "In this project, you will be using the CIFAR-10 dataset (http://www.cs.toronto.edu/~kriz/cifar.html (Links to an external site.)) which consists of 60,000 32x32 color images in 10 classes, with 6,000 images per class. There are 50,000 training images and 10,000 test images.\n",
        "\n",
        "The dataset is divided into five training batches and one test batch, each with 10,000 images. The test batch contains exactly 1,000 randomly-selected images from each class. The training batches contain the remaining images in random order, but some training batches may contain more images from one class than another. Between them, the training batches contain exactly 5,000 images from each class.\n",
        "\n",
        "# Your task is to create and submit a well-documented Jupyter notebook report with the following features:\n",
        "# a) It performs dimension-reduction (e.g. t-SNE, PCA), and scaling when and if necessary along with justification for each action and comparison of results\n",
        "# b) It uses appropriate multiclass classifiers such SVM, Random Forest, K-Nearest Neighbors, etc. comparing ROC curves for the classifiers\n",
        "# c) It computes the performance parameters such as confusion matrix, sensitivity, and specificity\n",
        "# d) Plots sensitivity and specificity against the number of folds (pick reasonable values for k) in k-fold cross-validation\n",
        "# e) It identifies and thoroughly discusses the best classifier based on the obtained results\n",
        "\n",
        "\n",
        "Setup First, let's import a few common modules, ensure MatplotLib plots figures inline and prepare a function to save the figures. We also check that Python 3.5 or later is installed (although Python 2.x may work, it is deprecated so we strongly recommend you use Python 3 instead), as well as Scikit-Learn ≥0.20."
      ]
    },
    {
      "cell_type": "code",
      "metadata": {
        "id": "ylWsXwIgBauA",
        "colab_type": "code",
        "colab": {}
      },
      "source": [
        "# Python ≥3.5 is required\n",
        "import sys\n",
        "assert sys.version_info >= (3, 5)\n",
        "\n",
        "# Scikit-Learn ≥0.20 is required\n",
        "import sklearn\n",
        "assert sklearn.__version__ >= \"0.20\"\n",
        "\n",
        "# Common imports\n",
        "import numpy as np\n",
        "import os\n",
        "\n",
        "# To plot pretty figures\n",
        "%matplotlib inline\n",
        "import matplotlib as mpl\n",
        "import matplotlib.pyplot as plt\n",
        "mpl.rc('axes', labelsize=14)\n",
        "mpl.rc('xtick', labelsize=12)\n",
        "mpl.rc('ytick', labelsize=12)\n",
        "\n",
        "from sklearn.metrics import classification_report, confusion_matrix, accuracy_score\n",
        "from sklearn.model_selection import cross_val_score\n",
        "from sklearn.decomposition import PCA\n",
        "\n",
        "from sklearn import svm\n",
        "from sklearn.ensemble import RandomForestClassifier\n",
        "from sklearn.neighbors import KNeighborsClassifier\n",
        "from sklearn.linear_model import LogisticRegression\n",
        "\n",
        "# Where to save the figures\n",
        "PROJECT_ROOT_DIR = \".\"\n",
        "CHAPTER_ID = \"classification\"\n",
        "IMAGES_PATH = os.path.join(PROJECT_ROOT_DIR, \"images\", CHAPTER_ID)\n",
        "os.makedirs(IMAGES_PATH, exist_ok=True)\n",
        "\n",
        "def save_fig(fig_id, tight_layout=True, fig_extension=\"png\", resolution=300):\n",
        "    path = os.path.join(IMAGES_PATH, fig_id + \".\" + fig_extension)\n",
        "    print(\"Saving figure\", fig_id)\n",
        "    if tight_layout:\n",
        "        plt.tight_layout()\n",
        "    plt.savefig(path, format=fig_extension, dpi=resolution)"
      ],
      "execution_count": 0,
      "outputs": []
    },
    {
      "cell_type": "markdown",
      "metadata": {
        "id": "3x22AAl2bs_3",
        "colab_type": "text"
      },
      "source": [
        "# Loading data using KERAS\n",
        "Keras offers convenient facilities that automatically download some well-known datasets and store them in the ~/.keras/datasets directory. Let's load the CIFAR-10 in Keras:"
      ]
    },
    {
      "cell_type": "code",
      "metadata": {
        "id": "DzQhvYfYCCJQ",
        "colab_type": "code",
        "colab": {
          "base_uri": "https://localhost:8080/",
          "height": 113
        },
        "outputId": "ac1b104d-b412-4050-c2b4-347b9e17703e"
      },
      "source": [
        "\n",
        "import tensorflow as tf\n",
        "import tensorflow_datasets as tfds\n",
        "from keras.datasets import cifar10\n",
        "from keras.utils import np_utils\n",
        "\n",
        "(x_train, y_train), (x_test, y_test) = cifar10.load_data()"
      ],
      "execution_count": 4,
      "outputs": [
        {
          "output_type": "display_data",
          "data": {
            "text/html": [
              "<p style=\"color: red;\">\n",
              "The default version of TensorFlow in Colab will soon switch to TensorFlow 2.x.<br>\n",
              "We recommend you <a href=\"https://www.tensorflow.org/guide/migrate\" target=\"_blank\">upgrade</a> now \n",
              "or ensure your notebook will continue to use TensorFlow 1.x via the <code>%tensorflow_version 1.x</code> magic:\n",
              "<a href=\"https://colab.research.google.com/notebooks/tensorflow_version.ipynb\" target=\"_blank\">more info</a>.</p>\n"
            ],
            "text/plain": [
              "<IPython.core.display.HTML object>"
            ]
          },
          "metadata": {
            "tags": []
          }
        },
        {
          "output_type": "stream",
          "text": [
            "Using TensorFlow backend.\n"
          ],
          "name": "stderr"
        },
        {
          "output_type": "stream",
          "text": [
            "Downloading data from https://www.cs.toronto.edu/~kriz/cifar-10-python.tar.gz\n",
            "170500096/170498071 [==============================] - 3s 0us/step\n"
          ],
          "name": "stdout"
        }
      ]
    },
    {
      "cell_type": "markdown",
      "metadata": {
        "id": "doUpAnzib7_B",
        "colab_type": "text"
      },
      "source": [
        "# Summarizing loading dataset \n",
        "Plotting some images"
      ]
    },
    {
      "cell_type": "code",
      "metadata": {
        "id": "ZEM_126Cb_Yv",
        "colab_type": "code",
        "colab": {
          "base_uri": "https://localhost:8080/",
          "height": 305
        },
        "outputId": "82aaa055-0c94-4744-dca7-b58742ac6950"
      },
      "source": [
        "from matplotlib import pyplot\n",
        "# summarize loaded dataset\n",
        "print('Train: X=%s, y=%s' % (x_train.shape, y_train.shape))\n",
        "print('Test: X=%s, y=%s' % (x_test.shape, y_test.shape))\n",
        "# plot first few images\n",
        "for i in range(9):\n",
        "\t# define subplot\n",
        "\tpyplot.subplot(330 + 1 + i)\n",
        "\t# plot raw pixel data\n",
        "\tpyplot.imshow(x_train[i])\n",
        "# show the figure\n",
        "pyplot.show()"
      ],
      "execution_count": 5,
      "outputs": [
        {
          "output_type": "stream",
          "text": [
            "Train: X=(50000, 32, 32, 3), y=(50000, 1)\n",
            "Test: X=(10000, 32, 32, 3), y=(10000, 1)\n"
          ],
          "name": "stdout"
        },
        {
          "output_type": "display_data",
          "data": {
            "image/png": "[encoded data removed]",
            "text/plain": [
              "<Figure size 432x288 with 9 Axes>"
            ]
          },
          "metadata": {
            "tags": []
          }
        }
      ]
    },
    {
      "cell_type": "markdown",
      "metadata": {
        "id": "M9z10GCmenGv",
        "colab_type": "text"
      },
      "source": [
        "# SCALING"
      ]
    },
    {
      "cell_type": "code",
      "metadata": {
        "id": "yWryDlYPCn0P",
        "colab_type": "code",
        "colab": {}
      },
      "source": [
        "x_train = x_train.reshape(x_train.shape[0],-1)\n",
        "x_test = x_test.reshape(x_test.shape[0], -1)"
      ],
      "execution_count": 0,
      "outputs": []
    },
    {
      "cell_type": "code",
      "metadata": {
        "id": "MtiEIKKZCVce",
        "colab_type": "code",
        "outputId": "cbfc0134-5dfa-476c-9c9a-16953b0dd70d",
        "colab": {
          "base_uri": "https://localhost:8080/",
          "height": 33
        }
      },
      "source": [
        "x_train.shape"
      ],
      "execution_count": 7,
      "outputs": [
        {
          "output_type": "execute_result",
          "data": {
            "text/plain": [
              "(50000, 3072)"
            ]
          },
          "metadata": {
            "tags": []
          },
          "execution_count": 7
        }
      ]
    },
    {
      "cell_type": "code",
      "metadata": {
        "id": "fe0co5WLCZYg",
        "colab_type": "code",
        "outputId": "feff3991-a7ca-4515-f021-490595c74259",
        "colab": {
          "base_uri": "https://localhost:8080/",
          "height": 33
        }
      },
      "source": [
        "x_test.shape"
      ],
      "execution_count": 8,
      "outputs": [
        {
          "output_type": "execute_result",
          "data": {
            "text/plain": [
              "(10000, 3072)"
            ]
          },
          "metadata": {
            "tags": []
          },
          "execution_count": 8
        }
      ]
    },
    {
      "cell_type": "markdown",
      "metadata": {
        "id": "Y04WHozuFEnM",
        "colab_type": "text"
      },
      "source": [
        "#USING PCA\n",
        "for dimension reduction "
      ]
    },
    {
      "cell_type": "code",
      "metadata": {
        "id": "-aMSTEttEh2h",
        "colab_type": "code",
        "outputId": "0f2419fe-5793-423a-a934-70861da8162a",
        "colab": {
          "base_uri": "https://localhost:8080/",
          "height": 234
        }
      },
      "source": [
        "pca = PCA()\n",
        "pca.fit_transform(x_train)"
      ],
      "execution_count": 9,
      "outputs": [
        {
          "output_type": "execute_result",
          "data": {
            "text/plain": [
              "array([[-1.63225950e+03,  6.95904885e+02,  3.82936183e+02, ...,\n",
              "        -1.94383396e-01, -2.96716275e-01, -8.91909421e-02],\n",
              "       [ 2.11594763e+02, -2.42235521e+02,  1.53095691e+03, ...,\n",
              "         2.76508201e-02,  1.47062424e-01, -1.96606511e-01],\n",
              "       [ 1.97120094e+03, -2.93813609e+03, -7.02173229e+02, ...,\n",
              "        -2.66373278e-01, -5.45969636e-02, -1.00334729e-01],\n",
              "       ...,\n",
              "       [ 1.80373380e+02, -2.89234292e+03, -1.00448294e+02, ...,\n",
              "        -9.69870999e-02,  4.75402487e-01,  3.69202335e-01],\n",
              "       [ 2.89881680e+03, -8.60874301e+02,  1.41938040e+03, ...,\n",
              "        -1.19109692e-01,  1.89968105e-01, -4.26015893e-01],\n",
              "       [ 1.06916310e+03, -3.01968063e+02, -1.13372056e+03, ...,\n",
              "         2.46831906e-01,  6.12928127e-02, -7.15290870e-03]])"
            ]
          },
          "metadata": {
            "tags": []
          },
          "execution_count": 9
        }
      ]
    },
    {
      "cell_type": "code",
      "metadata": {
        "id": "O2HAqZEqFJe7",
        "colab_type": "code",
        "outputId": "aa5fbed6-7bdb-4668-9714-1491dc0f7aa8",
        "colab": {
          "base_uri": "https://localhost:8080/",
          "height": 33
        }
      },
      "source": [
        "\n",
        "pca.explained_variance_.shape"
      ],
      "execution_count": 10,
      "outputs": [
        {
          "output_type": "execute_result",
          "data": {
            "text/plain": [
              "(3072,)"
            ]
          },
          "metadata": {
            "tags": []
          },
          "execution_count": 10
        }
      ]
    },
    {
      "cell_type": "code",
      "metadata": {
        "id": "fCiI6Zs9FNxS",
        "colab_type": "code",
        "outputId": "04638b6e-4dda-4612-c1e2-76555a21d3c1",
        "colab": {
          "base_uri": "https://localhost:8080/",
          "height": 33
        }
      },
      "source": [
        "\n",
        "# Calculating optimal k to have 95% (say) variance \n",
        "\n",
        "k = 0\n",
        "total = sum(pca.explained_variance_)\n",
        "current_sum = 0\n",
        "\n",
        "while(current_sum / total < 0.99):\n",
        "    current_sum += pca.explained_variance_[k]\n",
        "    k += 1\n",
        "k"
      ],
      "execution_count": 11,
      "outputs": [
        {
          "output_type": "execute_result",
          "data": {
            "text/plain": [
              "658"
            ]
          },
          "metadata": {
            "tags": []
          },
          "execution_count": 11
        }
      ]
    },
    {
      "cell_type": "code",
      "metadata": {
        "id": "rTuxSsrDFSMr",
        "colab_type": "code",
        "colab": {}
      },
      "source": [
        "## Applying PCA with k calcuated above\n",
        "\n",
        "pca = PCA(n_components=k, whiten=True)\n",
        "\n",
        "x_train_pca = pca.fit_transform(x_train)\n",
        "x_test_pca = pca.transform(x_test)"
      ],
      "execution_count": 0,
      "outputs": []
    },
    {
      "cell_type": "markdown",
      "metadata": {
        "id": "9-EVp8My9US4",
        "colab_type": "text"
      },
      "source": [
        "# CLASSIFIERS"
      ]
    },
    {
      "cell_type": "markdown",
      "metadata": {
        "id": "jpxtCH1yFoGb",
        "colab_type": "text"
      },
      "source": [
        "# Prediction using Random Forest"
      ]
    },
    {
      "cell_type": "code",
      "metadata": {
        "id": "-mcVV2SsFkt6",
        "colab_type": "code",
        "outputId": "32b8703e-e4c2-41ee-e168-26815fb58c93",
        "colab": {
          "base_uri": "https://localhost:8080/",
          "height": 204
        }
      },
      "source": [
        "## Training\n",
        "rf = RandomForestClassifier()\n",
        "rf.fit(x_train_pca, y_train)"
      ],
      "execution_count": 13,
      "outputs": [
        {
          "output_type": "stream",
          "text": [
            "/usr/local/lib/python3.6/dist-packages/ipykernel_launcher.py:2: DataConversionWarning: A column-vector y was passed when a 1d array was expected. Please change the shape of y to (n_samples,), for example using ravel().\n",
            "  \n"
          ],
          "name": "stderr"
        },
        {
          "output_type": "execute_result",
          "data": {
            "text/plain": [
              "RandomForestClassifier(bootstrap=True, ccp_alpha=0.0, class_weight=None,\n",
              "                       criterion='gini', max_depth=None, max_features='auto',\n",
              "                       max_leaf_nodes=None, max_samples=None,\n",
              "                       min_impurity_decrease=0.0, min_impurity_split=None,\n",
              "                       min_samples_leaf=1, min_samples_split=2,\n",
              "                       min_weight_fraction_leaf=0.0, n_estimators=100,\n",
              "                       n_jobs=None, oob_score=False, random_state=None,\n",
              "                       verbose=0, warm_start=False)"
            ]
          },
          "metadata": {
            "tags": []
          },
          "execution_count": 13
        }
      ]
    },
    {
      "cell_type": "code",
      "metadata": {
        "id": "OHWQQ4YlFwan",
        "colab_type": "code",
        "outputId": "07d8579a-7b09-4c52-954d-64fd92be5199",
        "colab": {
          "base_uri": "https://localhost:8080/",
          "height": 33
        }
      },
      "source": [
        "## Predicting\n",
        "y_pred_rf = rf.predict(x_test_pca)\n",
        "\n",
        "random_forest_score = accuracy_score(y_test, y_pred_rf)\n",
        "random_forest_score"
      ],
      "execution_count": 14,
      "outputs": [
        {
          "output_type": "execute_result",
          "data": {
            "text/plain": [
              "0.3857"
            ]
          },
          "metadata": {
            "tags": []
          },
          "execution_count": 14
        }
      ]
    },
    {
      "cell_type": "markdown",
      "metadata": {
        "id": "0tWVY7QT9Yv8",
        "colab_type": "text"
      },
      "source": [
        "**Got an accuracy of 38% with Random forest**"
      ]
    },
    {
      "cell_type": "markdown",
      "metadata": {
        "id": "bRUAbI6FF-ba",
        "colab_type": "text"
      },
      "source": [
        "# Prediction using KNN"
      ]
    },
    {
      "cell_type": "code",
      "metadata": {
        "id": "s6jut2lIeEkt",
        "colab_type": "code",
        "colab": {
          "base_uri": "https://localhost:8080/",
          "height": 120
        },
        "outputId": "8f5d6557-7c0d-4322-b8f9-e61eaae4af46"
      },
      "source": [
        "## Training \n",
        "knn = KNeighborsClassifier()\n",
        "knn.fit(x_train_pca, y_train)"
      ],
      "execution_count": 15,
      "outputs": [
        {
          "output_type": "stream",
          "text": [
            "/usr/local/lib/python3.6/dist-packages/ipykernel_launcher.py:2: DataConversionWarning: A column-vector y was passed when a 1d array was expected. Please change the shape of y to (n_samples, ), for example using ravel().\n",
            "  \n"
          ],
          "name": "stderr"
        },
        {
          "output_type": "execute_result",
          "data": {
            "text/plain": [
              "KNeighborsClassifier(algorithm='auto', leaf_size=30, metric='minkowski',\n",
              "                     metric_params=None, n_jobs=None, n_neighbors=5, p=2,\n",
              "                     weights='uniform')"
            ]
          },
          "metadata": {
            "tags": []
          },
          "execution_count": 15
        }
      ]
    },
    {
      "cell_type": "code",
      "metadata": {
        "id": "pk2bO4_UeKTK",
        "colab_type": "code",
        "colab": {
          "base_uri": "https://localhost:8080/",
          "height": 33
        },
        "outputId": "979a5c4a-06fc-4038-bf4d-892f9cf24a30"
      },
      "source": [
        "## Predicting\n",
        "y_pred_knn = knn.predict(x_test_pca)\n",
        "\n",
        "knn_score = accuracy_score(y_test, y_pred_knn)\n",
        "knn_score"
      ],
      "execution_count": 16,
      "outputs": [
        {
          "output_type": "execute_result",
          "data": {
            "text/plain": [
              "0.1424"
            ]
          },
          "metadata": {
            "tags": []
          },
          "execution_count": 16
        }
      ]
    },
    {
      "cell_type": "markdown",
      "metadata": {
        "id": "Tvot583b_CuQ",
        "colab_type": "text"
      },
      "source": [
        "**Got an accuracy of 14% with KNN **"
      ]
    },
    {
      "cell_type": "markdown",
      "metadata": {
        "id": "NeFhVWRTGaFX",
        "colab_type": "text"
      },
      "source": [
        "# Prediction using Logistic Regression"
      ]
    },
    {
      "cell_type": "code",
      "metadata": {
        "id": "Ev-fktdKGkmM",
        "colab_type": "code",
        "colab": {
          "base_uri": "https://localhost:8080/",
          "height": 153
        },
        "outputId": "47b51dd9-b685-416f-99f8-94af1e41076c"
      },
      "source": [
        "## Training \n",
        "lr = LogisticRegression()\n",
        "lr.fit(x_train_pca, y_train)"
      ],
      "execution_count": 21,
      "outputs": [
        {
          "output_type": "stream",
          "text": [
            "/usr/local/lib/python3.6/dist-packages/sklearn/utils/validation.py:760: DataConversionWarning: A column-vector y was passed when a 1d array was expected. Please change the shape of y to (n_samples, ), for example using ravel().\n",
            "  y = column_or_1d(y, warn=True)\n"
          ],
          "name": "stderr"
        },
        {
          "output_type": "execute_result",
          "data": {
            "text/plain": [
              "LogisticRegression(C=1.0, class_weight=None, dual=False, fit_intercept=True,\n",
              "                   intercept_scaling=1, l1_ratio=None, max_iter=100,\n",
              "                   multi_class='auto', n_jobs=None, penalty='l2',\n",
              "                   random_state=None, solver='lbfgs', tol=0.0001, verbose=0,\n",
              "                   warm_start=False)"
            ]
          },
          "metadata": {
            "tags": []
          },
          "execution_count": 21
        }
      ]
    },
    {
      "cell_type": "code",
      "metadata": {
        "id": "bFwiVB79Gsnk",
        "colab_type": "code",
        "colab": {
          "base_uri": "https://localhost:8080/",
          "height": 33
        },
        "outputId": "5a1dd02d-32f5-40b6-8e6b-d4c771ac3cb3"
      },
      "source": [
        "## Predicting\n",
        "y_pred_lr = lr.predict(x_test_pca)\n",
        "logistic_regression_score = accuracy_score(y_test, y_pred_lr)\n",
        "logistic_regression_score"
      ],
      "execution_count": 22,
      "outputs": [
        {
          "output_type": "execute_result",
          "data": {
            "text/plain": [
              "0.403"
            ]
          },
          "metadata": {
            "tags": []
          },
          "execution_count": 22
        }
      ]
    },
    {
      "cell_type": "markdown",
      "metadata": {
        "id": "Ws0guFF7_W4j",
        "colab_type": "text"
      },
      "source": [
        "**Got an accuracy of 40% with Logistic Regression**"
      ]
    },
    {
      "cell_type": "markdown",
      "metadata": {
        "id": "hlhT-aegHvTP",
        "colab_type": "text"
      },
      "source": [
        "# Prediction using SVM"
      ]
    },
    {
      "cell_type": "code",
      "metadata": {
        "id": "LFRGPYmSdx81",
        "colab_type": "code",
        "colab": {}
      },
      "source": [
        "## Training\n",
        "svc = svm.SVC()\n",
        "svc.fit(x_train_pca, y_train)"
      ],
      "execution_count": 0,
      "outputs": []
    },
    {
      "cell_type": "code",
      "metadata": {
        "id": "aEcSop3ed5TN",
        "colab_type": "code",
        "colab": {
          "base_uri": "https://localhost:8080/",
          "height": 33
        },
        "outputId": "9663f68c-f14f-4042-91af-3fff322fd69d"
      },
      "source": [
        "\n",
        "## Predicting \n",
        "y_pred_svm = svc.predict(x_test_pca)\n",
        "svc_score = accuracy_score(y_test, y_pred_svm)\n",
        "svc_score"
      ],
      "execution_count": 23,
      "outputs": [
        {
          "output_type": "execute_result",
          "data": {
            "text/plain": [
              "0.4824"
            ]
          },
          "metadata": {
            "tags": []
          },
          "execution_count": 23
        }
      ]
    },
    {
      "cell_type": "markdown",
      "metadata": {
        "id": "DlyHZ3kSH-3S",
        "colab_type": "text"
      },
      "source": [
        "# Comparing  various Classifier"
      ]
    },
    {
      "cell_type": "code",
      "metadata": {
        "id": "T6qs3Bh5IGhs",
        "colab_type": "code",
        "colab": {
          "base_uri": "https://localhost:8080/",
          "height": 83
        },
        "outputId": "061a7aa2-b51a-4739-af5c-a7e887d178d5"
      },
      "source": [
        "print(\"RandomForestClassifier : \", random_forest_score)\n",
        "print(\"K Nearest Neighbors : \", knn_score)\n",
        "print(\"Logistic Regression : \", logistic_regression_score)\n",
        "print(\"Support Vector Classifier : \", svc_score)"
      ],
      "execution_count": 24,
      "outputs": [
        {
          "output_type": "stream",
          "text": [
            "RandomForestClassifier :  0.3907\n",
            "K Nearest Neighbors :  0.1416\n",
            "Logistic Regression :  0.4035\n",
            "Support Vector Classifier :  0.4824\n"
          ],
          "name": "stdout"
        }
      ]
    },
    {
      "cell_type": "markdown",
      "metadata": {
        "id": "BfzAG9dJIDIT",
        "colab_type": "text"
      },
      "source": [
        "#Truns out that SVC is best classifier till now with 48% of accuracy"
      ]
    },
    {
      "cell_type": "markdown",
      "metadata": {
        "id": "c6ZQcbdUIJ_g",
        "colab_type": "text"
      },
      "source": [
        "# Implementing Neural Network"
      ]
    },
    {
      "cell_type": "code",
      "metadata": {
        "id": "4zdxAIOkIijK",
        "colab_type": "code",
        "colab": {
          "base_uri": "https://localhost:8080/",
          "height": 70
        },
        "outputId": "7b226e0d-d0d5-4b35-e2ed-16c2da4b12f5"
      },
      "source": [
        "\n",
        "## Creating a model\n",
        "\n",
        "from keras.models import Sequential\n",
        "model = Sequential()"
      ],
      "execution_count": 25,
      "outputs": [
        {
          "output_type": "stream",
          "text": [
            "WARNING:tensorflow:From /usr/local/lib/python3.6/dist-packages/keras/backend/tensorflow_backend.py:66: The name tf.get_default_graph is deprecated. Please use tf.compat.v1.get_default_graph instead.\n",
            "\n"
          ],
          "name": "stdout"
        }
      ]
    },
    {
      "cell_type": "code",
      "metadata": {
        "id": "E9Pep8ShImam",
        "colab_type": "code",
        "colab": {
          "base_uri": "https://localhost:8080/",
          "height": 83
        },
        "outputId": "d4249b65-6bba-4136-8bf7-c0271f192ceb"
      },
      "source": [
        "\n",
        "from  keras.layers  import Dense\n",
        "\n",
        "# For first layer, input shape must be supplied\n",
        "layer1 = Dense(units = 50, activation = 'relu', input_dim = k)\n",
        "model.add(layer1)\n",
        "\n",
        "layer2 = Dense(units = 25, activation = 'relu')\n",
        "model.add(layer2)\n",
        "\n",
        "layer3 = Dense(units = 10, activation = 'sigmoid')\n",
        "model.add(layer3)"
      ],
      "execution_count": 26,
      "outputs": [
        {
          "output_type": "stream",
          "text": [
            "WARNING:tensorflow:From /usr/local/lib/python3.6/dist-packages/keras/backend/tensorflow_backend.py:541: The name tf.placeholder is deprecated. Please use tf.compat.v1.placeholder instead.\n",
            "\n",
            "WARNING:tensorflow:From /usr/local/lib/python3.6/dist-packages/keras/backend/tensorflow_backend.py:4432: The name tf.random_uniform is deprecated. Please use tf.random.uniform instead.\n",
            "\n"
          ],
          "name": "stdout"
        }
      ]
    },
    {
      "cell_type": "code",
      "metadata": {
        "id": "KtOrNyGsIp3x",
        "colab_type": "code",
        "colab": {
          "base_uri": "https://localhost:8080/",
          "height": 153
        },
        "outputId": "1da24224-862b-43d2-b689-157897c31035"
      },
      "source": [
        "model.compile(optimizer='adam', loss='binary_crossentropy', metrics = ['accuracy'])"
      ],
      "execution_count": 27,
      "outputs": [
        {
          "output_type": "stream",
          "text": [
            "WARNING:tensorflow:From /usr/local/lib/python3.6/dist-packages/keras/optimizers.py:793: The name tf.train.Optimizer is deprecated. Please use tf.compat.v1.train.Optimizer instead.\n",
            "\n",
            "WARNING:tensorflow:From /usr/local/lib/python3.6/dist-packages/keras/backend/tensorflow_backend.py:3657: The name tf.log is deprecated. Please use tf.math.log instead.\n",
            "\n",
            "WARNING:tensorflow:From /usr/local/lib/python3.6/dist-packages/tensorflow_core/python/ops/nn_impl.py:183: where (from tensorflow.python.ops.array_ops) is deprecated and will be removed in a future version.\n",
            "Instructions for updating:\n",
            "Use tf.where in 2.0, which has the same broadcast rule as np.where\n"
          ],
          "name": "stdout"
        }
      ]
    },
    {
      "cell_type": "code",
      "metadata": {
        "id": "PwkObHsBIss9",
        "colab_type": "code",
        "colab": {}
      },
      "source": [
        "## Onehot Encoding the labels\n",
        "from sklearn.preprocessing import OneHotEncoder\n",
        "\n",
        "enc = OneHotEncoder()\n",
        "\n",
        "y_train_encoded = enc.fit_transform(y_train.reshape(-1, 1))\n",
        "y_test_encoded = enc.transform(y_test.reshape(-1, 1))"
      ],
      "execution_count": 0,
      "outputs": []
    },
    {
      "cell_type": "code",
      "metadata": {
        "id": "udiPnvvEIwQT",
        "colab_type": "code",
        "colab": {
          "base_uri": "https://localhost:8080/",
          "height": 988
        },
        "outputId": "ecf63842-9709-4669-e2d0-cff7cf239bd1"
      },
      "source": [
        "\n",
        "model.fit(x_train_pca, y_train_encoded, epochs=20)"
      ],
      "execution_count": 30,
      "outputs": [
        {
          "output_type": "stream",
          "text": [
            "WARNING:tensorflow:From /usr/local/lib/python3.6/dist-packages/keras/backend/tensorflow_backend.py:1033: The name tf.assign_add is deprecated. Please use tf.compat.v1.assign_add instead.\n",
            "\n",
            "WARNING:tensorflow:From /usr/local/lib/python3.6/dist-packages/keras/backend/tensorflow_backend.py:1020: The name tf.assign is deprecated. Please use tf.compat.v1.assign instead.\n",
            "\n",
            "WARNING:tensorflow:From /usr/local/lib/python3.6/dist-packages/keras/backend/tensorflow_backend.py:3005: The name tf.Session is deprecated. Please use tf.compat.v1.Session instead.\n",
            "\n",
            "Epoch 1/20\n",
            "WARNING:tensorflow:From /usr/local/lib/python3.6/dist-packages/keras/backend/tensorflow_backend.py:190: The name tf.get_default_session is deprecated. Please use tf.compat.v1.get_default_session instead.\n",
            "\n",
            "WARNING:tensorflow:From /usr/local/lib/python3.6/dist-packages/keras/backend/tensorflow_backend.py:197: The name tf.ConfigProto is deprecated. Please use tf.compat.v1.ConfigProto instead.\n",
            "\n",
            "WARNING:tensorflow:From /usr/local/lib/python3.6/dist-packages/keras/backend/tensorflow_backend.py:207: The name tf.global_variables is deprecated. Please use tf.compat.v1.global_variables instead.\n",
            "\n",
            "WARNING:tensorflow:From /usr/local/lib/python3.6/dist-packages/keras/backend/tensorflow_backend.py:216: The name tf.is_variable_initialized is deprecated. Please use tf.compat.v1.is_variable_initialized instead.\n",
            "\n",
            "WARNING:tensorflow:From /usr/local/lib/python3.6/dist-packages/keras/backend/tensorflow_backend.py:223: The name tf.variables_initializer is deprecated. Please use tf.compat.v1.variables_initializer instead.\n",
            "\n",
            "50000/50000 [==============================] - 4s 87us/step - loss: 0.3071 - acc: 0.8944\n",
            "Epoch 2/20\n",
            "50000/50000 [==============================] - 3s 70us/step - loss: 0.2460 - acc: 0.9093\n",
            "Epoch 3/20\n",
            "50000/50000 [==============================] - 4s 70us/step - loss: 0.2279 - acc: 0.9140\n",
            "Epoch 4/20\n",
            "50000/50000 [==============================] - 4s 72us/step - loss: 0.2146 - acc: 0.9178\n",
            "Epoch 5/20\n",
            "50000/50000 [==============================] - 3s 70us/step - loss: 0.2043 - acc: 0.9214\n",
            "Epoch 6/20\n",
            "50000/50000 [==============================] - 4s 70us/step - loss: 0.1956 - acc: 0.9243\n",
            "Epoch 7/20\n",
            "50000/50000 [==============================] - 3s 70us/step - loss: 0.1894 - acc: 0.9264\n",
            "Epoch 8/20\n",
            "50000/50000 [==============================] - 3s 68us/step - loss: 0.1838 - acc: 0.9285\n",
            "Epoch 9/20\n",
            "50000/50000 [==============================] - 3s 70us/step - loss: 0.1790 - acc: 0.9305\n",
            "Epoch 10/20\n",
            "50000/50000 [==============================] - 3s 69us/step - loss: 0.1750 - acc: 0.9318\n",
            "Epoch 11/20\n",
            "50000/50000 [==============================] - 3s 68us/step - loss: 0.1714 - acc: 0.9332\n",
            "Epoch 12/20\n",
            "50000/50000 [==============================] - 3s 70us/step - loss: 0.1684 - acc: 0.9345\n",
            "Epoch 13/20\n",
            "50000/50000 [==============================] - 3s 68us/step - loss: 0.1652 - acc: 0.9357\n",
            "Epoch 14/20\n",
            "50000/50000 [==============================] - 3s 69us/step - loss: 0.1628 - acc: 0.9367\n",
            "Epoch 15/20\n",
            "50000/50000 [==============================] - 3s 67us/step - loss: 0.1605 - acc: 0.9377\n",
            "Epoch 16/20\n",
            "50000/50000 [==============================] - 3s 68us/step - loss: 0.1583 - acc: 0.9385\n",
            "Epoch 17/20\n",
            "50000/50000 [==============================] - 3s 69us/step - loss: 0.1563 - acc: 0.9393\n",
            "Epoch 18/20\n",
            "50000/50000 [==============================] - 4s 70us/step - loss: 0.1545 - acc: 0.9400\n",
            "Epoch 19/20\n",
            "50000/50000 [==============================] - 3s 68us/step - loss: 0.1528 - acc: 0.9406\n",
            "Epoch 20/20\n",
            "50000/50000 [==============================] - 3s 68us/step - loss: 0.1512 - acc: 0.9415\n"
          ],
          "name": "stdout"
        },
        {
          "output_type": "execute_result",
          "data": {
            "text/plain": [
              "<keras.callbacks.History at 0x7f88e1aa01d0>"
            ]
          },
          "metadata": {
            "tags": []
          },
          "execution_count": 30
        }
      ]
    },
    {
      "cell_type": "code",
      "metadata": {
        "id": "tQ18j9zWI5ms",
        "colab_type": "code",
        "colab": {}
      },
      "source": [
        "predictions = model.predict(x_test_pca)"
      ],
      "execution_count": 0,
      "outputs": []
    },
    {
      "cell_type": "code",
      "metadata": {
        "id": "wTvObfdjI6Nx",
        "colab_type": "code",
        "colab": {}
      },
      "source": [
        "\n",
        "predictions_decoded = []\n",
        "\n",
        "for x in predictions:\n",
        "    for i in range(x.shape[0]):\n",
        "        if x[i] == max(x):\n",
        "            predictions_decoded.append(i)\n",
        "            break"
      ],
      "execution_count": 0,
      "outputs": []
    },
    {
      "cell_type": "markdown",
      "metadata": {
        "id": "v8SIeG3cJByg",
        "colab_type": "text"
      },
      "source": [
        "# Export best prediction"
      ]
    },
    {
      "cell_type": "code",
      "metadata": {
        "id": "j2Vgbv65JGLU",
        "colab_type": "code",
        "colab": {}
      },
      "source": [
        "np.savetxt(\"predictions.csv\", labels, fmt = '%s')"
      ],
      "execution_count": 0,
      "outputs": []
    },
    {
      "cell_type": "code",
      "metadata": {
        "id": "WnZYsBsaJIvo",
        "colab_type": "code",
        "colab": {
          "base_uri": "https://localhost:8080/",
          "height": 33
        },
        "outputId": "756e1625-1767-49f3-82cc-4fb7a3a0304e"
      },
      "source": [
        "accuracy_score(y_test, predictions_decoded)"
      ],
      "execution_count": 37,
      "outputs": [
        {
          "output_type": "execute_result",
          "data": {
            "text/plain": [
              "0.4333"
            ]
          },
          "metadata": {
            "tags": []
          },
          "execution_count": 37
        }
      ]
    },
    {
      "cell_type": "markdown",
      "metadata": {
        "id": "OnzJBwPiXKr7",
        "colab_type": "text"
      },
      "source": [
        "**With onehot_encoder to accuracy goes around 43%**"
      ]
    },
    {
      "cell_type": "markdown",
      "metadata": {
        "id": "XjqPHmJiXe6D",
        "colab_type": "text"
      },
      "source": [
        "# Confusion Matrix "
      ]
    },
    {
      "cell_type": "code",
      "metadata": {
        "id": "QBkA7zMlSOko",
        "colab_type": "code",
        "colab": {}
      },
      "source": [
        "#Binary Classifier\n",
        "y_train_5 = (y_train == 5)\n",
        "y_test_5 = (y_test == 5)"
      ],
      "execution_count": 0,
      "outputs": []
    },
    {
      "cell_type": "code",
      "metadata": {
        "id": "UZTm-LwQSSZN",
        "colab_type": "code",
        "colab": {
          "base_uri": "https://localhost:8080/",
          "height": 170
        },
        "outputId": "4280c5c3-3d1b-40dc-c458-00bd87292b4a"
      },
      "source": [
        "from sklearn.linear_model import SGDClassifier\n",
        "\n",
        "sgd_clf = SGDClassifier(max_iter=1000, tol=1e-3, random_state=42)\n",
        "sgd_clf.fit(x_train, y_train_5)"
      ],
      "execution_count": 30,
      "outputs": [
        {
          "output_type": "stream",
          "text": [
            "/usr/local/lib/python3.6/dist-packages/sklearn/utils/validation.py:760: DataConversionWarning: A column-vector y was passed when a 1d array was expected. Please change the shape of y to (n_samples, ), for example using ravel().\n",
            "  y = column_or_1d(y, warn=True)\n"
          ],
          "name": "stderr"
        },
        {
          "output_type": "execute_result",
          "data": {
            "text/plain": [
              "SGDClassifier(alpha=0.0001, average=False, class_weight=None,\n",
              "              early_stopping=False, epsilon=0.1, eta0=0.0, fit_intercept=True,\n",
              "              l1_ratio=0.15, learning_rate='optimal', loss='hinge',\n",
              "              max_iter=1000, n_iter_no_change=5, n_jobs=None, penalty='l2',\n",
              "              power_t=0.5, random_state=42, shuffle=True, tol=0.001,\n",
              "              validation_fraction=0.1, verbose=0, warm_start=False)"
            ]
          },
          "metadata": {
            "tags": []
          },
          "execution_count": 30
        }
      ]
    },
    {
      "cell_type": "code",
      "metadata": {
        "id": "eFGuKZXvSzVw",
        "colab_type": "code",
        "colab": {
          "base_uri": "https://localhost:8080/",
          "height": 33
        },
        "outputId": "c663dac5-3c22-460f-983f-6c69236e7234"
      },
      "source": [
        "some_image=x_train[0]\n",
        "sgd_clf.predict([some_image])"
      ],
      "execution_count": 33,
      "outputs": [
        {
          "output_type": "execute_result",
          "data": {
            "text/plain": [
              "array([ True])"
            ]
          },
          "metadata": {
            "tags": []
          },
          "execution_count": 33
        }
      ]
    },
    {
      "cell_type": "code",
      "metadata": {
        "id": "TBFziALrZwOi",
        "colab_type": "code",
        "colab": {}
      },
      "source": [
        "from sklearn.base import BaseEstimator\n",
        "class Never5Classifier(BaseEstimator):\n",
        "    def fit(self, x_train, y=None):\n",
        "        pass\n",
        "    def predict(self, x_train):\n",
        "        return np.zeros((len(x_train), 1), dtype=bool)"
      ],
      "execution_count": 0,
      "outputs": []
    },
    {
      "cell_type": "code",
      "metadata": {
        "id": "q6tyWljiZ93L",
        "colab_type": "code",
        "colab": {
          "base_uri": "https://localhost:8080/",
          "height": 33
        },
        "outputId": "d1245478-ec9d-4c54-89df-6841a8facabf"
      },
      "source": [
        "never_5_clf = Never5Classifier()\n",
        "cross_val_score(never_5_clf, x_train, y_train_5, cv=3, scoring=\"accuracy\")"
      ],
      "execution_count": 35,
      "outputs": [
        {
          "output_type": "execute_result",
          "data": {
            "text/plain": [
              "array([0.90526189, 0.89638207, 0.89835593])"
            ]
          },
          "metadata": {
            "tags": []
          },
          "execution_count": 35
        }
      ]
    },
    {
      "cell_type": "markdown",
      "metadata": {
        "id": "SBeinJ-uQC6y",
        "colab_type": "text"
      },
      "source": [
        "**Doing confusion matrix with logistic regression as svm is taking a lot of time and its second best classifier with accuracy after that.**"
      ]
    },
    {
      "cell_type": "code",
      "metadata": {
        "id": "CrytrJyLf2D7",
        "colab_type": "code",
        "colab": {
          "base_uri": "https://localhost:8080/",
          "height": 537
        },
        "outputId": "089b17af-31bb-4709-daa9-d37c2cb833b1"
      },
      "source": [
        "from sklearn.model_selection import cross_val_predict\n",
        "\n",
        "y_train_pred = cross_val_predict(lr, x_train, y_train_5, cv=3)"
      ],
      "execution_count": 36,
      "outputs": [
        {
          "output_type": "stream",
          "text": [
            "/usr/local/lib/python3.6/dist-packages/sklearn/utils/validation.py:760: DataConversionWarning: A column-vector y was passed when a 1d array was expected. Please change the shape of y to (n_samples, ), for example using ravel().\n",
            "  y = column_or_1d(y, warn=True)\n",
            "/usr/local/lib/python3.6/dist-packages/sklearn/linear_model/_logistic.py:940: ConvergenceWarning: lbfgs failed to converge (status=1):\n",
            "STOP: TOTAL NO. of ITERATIONS REACHED LIMIT.\n",
            "\n",
            "Increase the number of iterations (max_iter) or scale the data as shown in:\n",
            "    https://scikit-learn.org/stable/modules/preprocessing.html\n",
            "Please also refer to the documentation for alternative solver options:\n",
            "    https://scikit-learn.org/stable/modules/linear_model.html#logistic-regression\n",
            "  extra_warning_msg=_LOGISTIC_SOLVER_CONVERGENCE_MSG)\n",
            "/usr/local/lib/python3.6/dist-packages/sklearn/utils/validation.py:760: DataConversionWarning: A column-vector y was passed when a 1d array was expected. Please change the shape of y to (n_samples, ), for example using ravel().\n",
            "  y = column_or_1d(y, warn=True)\n",
            "/usr/local/lib/python3.6/dist-packages/sklearn/linear_model/_logistic.py:940: ConvergenceWarning: lbfgs failed to converge (status=1):\n",
            "STOP: TOTAL NO. of ITERATIONS REACHED LIMIT.\n",
            "\n",
            "Increase the number of iterations (max_iter) or scale the data as shown in:\n",
            "    https://scikit-learn.org/stable/modules/preprocessing.html\n",
            "Please also refer to the documentation for alternative solver options:\n",
            "    https://scikit-learn.org/stable/modules/linear_model.html#logistic-regression\n",
            "  extra_warning_msg=_LOGISTIC_SOLVER_CONVERGENCE_MSG)\n",
            "/usr/local/lib/python3.6/dist-packages/sklearn/utils/validation.py:760: DataConversionWarning: A column-vector y was passed when a 1d array was expected. Please change the shape of y to (n_samples, ), for example using ravel().\n",
            "  y = column_or_1d(y, warn=True)\n",
            "/usr/local/lib/python3.6/dist-packages/sklearn/linear_model/_logistic.py:940: ConvergenceWarning: lbfgs failed to converge (status=1):\n",
            "STOP: TOTAL NO. of ITERATIONS REACHED LIMIT.\n",
            "\n",
            "Increase the number of iterations (max_iter) or scale the data as shown in:\n",
            "    https://scikit-learn.org/stable/modules/preprocessing.html\n",
            "Please also refer to the documentation for alternative solver options:\n",
            "    https://scikit-learn.org/stable/modules/linear_model.html#logistic-regression\n",
            "  extra_warning_msg=_LOGISTIC_SOLVER_CONVERGENCE_MSG)\n"
          ],
          "name": "stderr"
        }
      ]
    },
    {
      "cell_type": "code",
      "metadata": {
        "id": "ri7k7mk5Pkra",
        "colab_type": "code",
        "colab": {
          "base_uri": "https://localhost:8080/",
          "height": 184
        },
        "outputId": "df5ebd2a-5013-49aa-f552-ca02b8227888"
      },
      "source": [
        "from sklearn.metrics import confusion_matrix\n",
        "\n",
        "confusion_matrix(y_train-5, y_train_pred) #taking all the 10 labels against each other for confusion matrix"
      ],
      "execution_count": 38,
      "outputs": [
        {
          "output_type": "execute_result",
          "data": {
            "text/plain": [
              "array([[4661,  339,    0,    0,    0,    0,    0,    0,    0,    0],\n",
              "       [4912,   88,    0,    0,    0,    0,    0,    0,    0,    0],\n",
              "       [4932,   68,    0,    0,    0,    0,    0,    0,    0,    0],\n",
              "       [4958,   42,    0,    0,    0,    0,    0,    0,    0,    0],\n",
              "       [4969,   31,    0,    0,    0,    0,    0,    0,    0,    0],\n",
              "       [4958,   42,    0,    0,    0,    0,    0,    0,    0,    0],\n",
              "       [4916,   84,    0,    0,    0,    0,    0,    0,    0,    0],\n",
              "       [4928,   72,    0,    0,    0,    0,    0,    0,    0,    0],\n",
              "       [4761,  239,    0,    0,    0,    0,    0,    0,    0,    0],\n",
              "       [4953,   47,    0,    0,    0,    0,    0,    0,    0,    0]])"
            ]
          },
          "metadata": {
            "tags": []
          },
          "execution_count": 38
        }
      ]
    },
    {
      "cell_type": "code",
      "metadata": {
        "id": "4wnOwyvzRIs3",
        "colab_type": "code",
        "colab": {
          "base_uri": "https://localhost:8080/",
          "height": 184
        },
        "outputId": "8477062c-0bb1-4cb0-f3ba-ed7036f516a9"
      },
      "source": [
        "y_train_perfect_predictions = y_train  # pretend we reached perfection\n",
        "confusion_matrix(y_train_5, y_train_perfect_predictions)"
      ],
      "execution_count": 39,
      "outputs": [
        {
          "output_type": "execute_result",
          "data": {
            "text/plain": [
              "array([[5000, 5000, 5000, 5000, 5000,    0, 5000, 5000, 5000, 5000],\n",
              "       [   0,    0,    0,    0,    0, 5000,    0,    0,    0,    0],\n",
              "       [   0,    0,    0,    0,    0,    0,    0,    0,    0,    0],\n",
              "       [   0,    0,    0,    0,    0,    0,    0,    0,    0,    0],\n",
              "       [   0,    0,    0,    0,    0,    0,    0,    0,    0,    0],\n",
              "       [   0,    0,    0,    0,    0,    0,    0,    0,    0,    0],\n",
              "       [   0,    0,    0,    0,    0,    0,    0,    0,    0,    0],\n",
              "       [   0,    0,    0,    0,    0,    0,    0,    0,    0,    0],\n",
              "       [   0,    0,    0,    0,    0,    0,    0,    0,    0,    0],\n",
              "       [   0,    0,    0,    0,    0,    0,    0,    0,    0,    0]])"
            ]
          },
          "metadata": {
            "tags": []
          },
          "execution_count": 39
        }
      ]
    },
    {
      "cell_type": "markdown",
      "metadata": {
        "id": "pnKC4spsfOkg",
        "colab_type": "text"
      },
      "source": [
        "Precision score"
      ]
    },
    {
      "cell_type": "code",
      "metadata": {
        "id": "8cEbEgsQT9_M",
        "colab_type": "code",
        "colab": {
          "base_uri": "https://localhost:8080/",
          "height": 33
        },
        "outputId": "3f863b1c-1c54-4e9a-87f1-dbd6107b9894"
      },
      "source": [
        "from sklearn.metrics import precision_score, recall_score\n",
        "\n",
        "precision_score(y_train_5, y_train_pred)"
      ],
      "execution_count": 40,
      "outputs": [
        {
          "output_type": "execute_result",
          "data": {
            "text/plain": [
              "0.32224334600760457"
            ]
          },
          "metadata": {
            "tags": []
          },
          "execution_count": 40
        }
      ]
    },
    {
      "cell_type": "markdown",
      "metadata": {
        "id": "AaOdys3xfRbR",
        "colab_type": "text"
      },
      "source": [
        "Recall Score"
      ]
    },
    {
      "cell_type": "code",
      "metadata": {
        "id": "C7nRDz6cUJu_",
        "colab_type": "code",
        "colab": {
          "base_uri": "https://localhost:8080/",
          "height": 33
        },
        "outputId": "1779d799-619b-4af7-b36b-d2a75e5d2582"
      },
      "source": [
        "recall_score(y_train_5, y_train_pred)"
      ],
      "execution_count": 42,
      "outputs": [
        {
          "output_type": "execute_result",
          "data": {
            "text/plain": [
              "0.0678"
            ]
          },
          "metadata": {
            "tags": []
          },
          "execution_count": 42
        }
      ]
    },
    {
      "cell_type": "code",
      "metadata": {
        "id": "W6kvi0CdUMxN",
        "colab_type": "code",
        "colab": {
          "base_uri": "https://localhost:8080/",
          "height": 33
        },
        "outputId": "aff1729c-0782-434f-d62e-244a2dc4ccaa"
      },
      "source": [
        "from sklearn.metrics import f1_score\n",
        "\n",
        "f1_score(y_train_5, y_train_pred)"
      ],
      "execution_count": 43,
      "outputs": [
        {
          "output_type": "execute_result",
          "data": {
            "text/plain": [
              "0.11202908129543952"
            ]
          },
          "metadata": {
            "tags": []
          },
          "execution_count": 43
        }
      ]
    },
    {
      "cell_type": "code",
      "metadata": {
        "id": "bIv3xdgAUZl7",
        "colab_type": "code",
        "colab": {
          "base_uri": "https://localhost:8080/",
          "height": 33
        },
        "outputId": "46c7ecfa-b773-46b9-ba08-5af1ed62b36e"
      },
      "source": [
        "y_scores = sgd_clf.decision_function([some_image])\n",
        "y_scores"
      ],
      "execution_count": 45,
      "outputs": [
        {
          "output_type": "execute_result",
          "data": {
            "text/plain": [
              "array([18533.16021763])"
            ]
          },
          "metadata": {
            "tags": []
          },
          "execution_count": 45
        }
      ]
    },
    {
      "cell_type": "code",
      "metadata": {
        "id": "DXsRtF6jUg7f",
        "colab_type": "code",
        "colab": {}
      },
      "source": [
        "threshold = 0\n",
        "y_some_digit_pred = (y_scores > threshold)"
      ],
      "execution_count": 0,
      "outputs": []
    },
    {
      "cell_type": "code",
      "metadata": {
        "id": "18GuNi26UkT3",
        "colab_type": "code",
        "colab": {
          "base_uri": "https://localhost:8080/",
          "height": 33
        },
        "outputId": "4c155dd5-f5d9-4c39-f960-0a8498bf107b"
      },
      "source": [
        "y_some_digit_pred"
      ],
      "execution_count": 47,
      "outputs": [
        {
          "output_type": "execute_result",
          "data": {
            "text/plain": [
              "array([ True])"
            ]
          },
          "metadata": {
            "tags": []
          },
          "execution_count": 47
        }
      ]
    },
    {
      "cell_type": "code",
      "metadata": {
        "id": "7Z0M15TiUnuU",
        "colab_type": "code",
        "colab": {
          "base_uri": "https://localhost:8080/",
          "height": 33
        },
        "outputId": "b3a4fb98-9460-4ce1-8ab6-485afe2be812"
      },
      "source": [
        "threshold = 8000\n",
        "y_some_digit_pred = (y_scores > threshold)\n",
        "y_some_digit_pred\n"
      ],
      "execution_count": 48,
      "outputs": [
        {
          "output_type": "execute_result",
          "data": {
            "text/plain": [
              "array([ True])"
            ]
          },
          "metadata": {
            "tags": []
          },
          "execution_count": 48
        }
      ]
    },
    {
      "cell_type": "markdown",
      "metadata": {
        "id": "RVoXeMU3fWs0",
        "colab_type": "text"
      },
      "source": [
        "Doing cross validation."
      ]
    },
    {
      "cell_type": "code",
      "metadata": {
        "id": "6lxoJM7TWAmR",
        "colab_type": "code",
        "colab": {
          "base_uri": "https://localhost:8080/",
          "height": 137
        },
        "outputId": "6011816b-7362-4c62-d22d-eb9b056f1a47"
      },
      "source": [
        "y_scores = cross_val_predict(sgd_clf, x_train, y_train_5, cv=3)"
      ],
      "execution_count": 55,
      "outputs": [
        {
          "output_type": "stream",
          "text": [
            "/usr/local/lib/python3.6/dist-packages/sklearn/utils/validation.py:760: DataConversionWarning: A column-vector y was passed when a 1d array was expected. Please change the shape of y to (n_samples, ), for example using ravel().\n",
            "  y = column_or_1d(y, warn=True)\n",
            "/usr/local/lib/python3.6/dist-packages/sklearn/utils/validation.py:760: DataConversionWarning: A column-vector y was passed when a 1d array was expected. Please change the shape of y to (n_samples, ), for example using ravel().\n",
            "  y = column_or_1d(y, warn=True)\n",
            "/usr/local/lib/python3.6/dist-packages/sklearn/utils/validation.py:760: DataConversionWarning: A column-vector y was passed when a 1d array was expected. Please change the shape of y to (n_samples, ), for example using ravel().\n",
            "  y = column_or_1d(y, warn=True)\n"
          ],
          "name": "stderr"
        }
      ]
    },
    {
      "cell_type": "code",
      "metadata": {
        "id": "1v4MtGW6YQ2L",
        "colab_type": "code",
        "colab": {}
      },
      "source": [
        "from sklearn.metrics import precision_recall_curve\n",
        "\n",
        "precisions, recalls, thresholds = precision_recall_curve(y_train_5, y_scores)"
      ],
      "execution_count": 0,
      "outputs": []
    },
    {
      "cell_type": "code",
      "metadata": {
        "id": "yXSXsSG0YU4b",
        "colab_type": "code",
        "colab": {
          "base_uri": "https://localhost:8080/",
          "height": 314
        },
        "outputId": "519e60d9-0e8c-46b5-fad4-06bac0bb737f"
      },
      "source": [
        "def plot_precision_recall_vs_threshold(precisions, recalls, thresholds):\n",
        "    plt.plot(thresholds, precisions[:-1], \"b--\", label=\"Precision\", linewidth=2)\n",
        "    plt.plot(thresholds, recalls[:-1], \"g-\", label=\"Recall\", linewidth=2)\n",
        "    plt.legend(loc=\"center right\", fontsize=16) # Not shown in the book\n",
        "    plt.xlabel(\"Threshold\", fontsize=16)        # Not shown\n",
        "    plt.grid(True)                              # Not shown\n",
        "    plt.axis([-50000, 50000, 0, 1])             # Not shown\n",
        "\n",
        "\n",
        "\n",
        "recall_90_precision = recalls[np.argmax(precisions >= 0.25)]\n",
        "threshold_90_precision = thresholds[np.argmax(precisions >= 0.25)]\n",
        "\n",
        "\n",
        "plt.figure(figsize=(8, 4))                                                                  # Not shown\n",
        "plot_precision_recall_vs_threshold(precisions, recalls, thresholds)\n",
        "plt.plot([threshold_90_precision, threshold_90_precision], [0., 0.9], \"r:\")                 # Not shown\n",
        "plt.plot([-50000, threshold_90_precision], [0.9, 0.9], \"r:\")                                # Not shown\n",
        "plt.plot([-50000, threshold_90_precision], [recall_90_precision, recall_90_precision], \"r:\")# Not shown\n",
        "plt.plot([threshold_90_precision], [0.9], \"ro\")                                             # Not shown\n",
        "plt.plot([threshold_90_precision], [recall_90_precision], \"ro\")                             # Not shown\n",
        "save_fig(\"precision_recall_vs_threshold_plot\")                                              # Not shown\n",
        "plt.show()"
      ],
      "execution_count": 62,
      "outputs": [
        {
          "output_type": "stream",
          "text": [
            "Saving figure precision_recall_vs_threshold_plot\n"
          ],
          "name": "stdout"
        },
        {
          "output_type": "display_data",
          "data": {
            "image/png": "[encoded data removed]",
            "text/plain": [
              "<Figure size 576x288 with 1 Axes>"
            ]
          },
          "metadata": {
            "tags": []
          }
        }
      ]
    },
    {
      "cell_type": "code",
      "metadata": {
        "id": "sDFq3MAcY1jU",
        "colab_type": "code",
        "colab": {
          "base_uri": "https://localhost:8080/",
          "height": 33
        },
        "outputId": "208ce324-5b64-40ad-ad9f-54e567654c3d"
      },
      "source": [
        "(y_train_pred == (y_scores > 0)).all()"
      ],
      "execution_count": 63,
      "outputs": [
        {
          "output_type": "execute_result",
          "data": {
            "text/plain": [
              "False"
            ]
          },
          "metadata": {
            "tags": []
          },
          "execution_count": 63
        }
      ]
    },
    {
      "cell_type": "code",
      "metadata": {
        "id": "kXAyYGHaY59p",
        "colab_type": "code",
        "colab": {
          "base_uri": "https://localhost:8080/",
          "height": 457
        },
        "outputId": "6b4b495b-f1f6-4df4-c5c6-4a77cd4273d2"
      },
      "source": [
        "def plot_precision_vs_recall(precisions, recalls):\n",
        "    plt.plot(recalls, precisions, \"b-\", linewidth=2)\n",
        "    plt.xlabel(\"Recall\", fontsize=16)\n",
        "    plt.ylabel(\"Precision\", fontsize=16)\n",
        "    plt.axis([0, 1, 0, 1])\n",
        "    plt.grid(True)\n",
        "\n",
        "plt.figure(figsize=(8, 6))\n",
        "plot_precision_vs_recall(precisions, recalls)\n",
        "plt.plot([0.4368, 0.4368], [0., 0.9], \"r:\")\n",
        "plt.plot([0.0, 0.4368], [0.9, 0.9], \"r:\")\n",
        "plt.plot([0.4368], [0.9], \"ro\")\n",
        "save_fig(\"precision_vs_recall_plot\")\n",
        "plt.show()"
      ],
      "execution_count": 64,
      "outputs": [
        {
          "output_type": "stream",
          "text": [
            "Saving figure precision_vs_recall_plot\n"
          ],
          "name": "stdout"
        },
        {
          "output_type": "display_data",
          "data": {
            "image/png": "[encoded data removed]",
            "text/plain": [
              "<Figure size 576x432 with 1 Axes>"
            ]
          },
          "metadata": {
            "tags": []
          }
        }
      ]
    },
    {
      "cell_type": "code",
      "metadata": {
        "id": "wy3sdtHVZBTw",
        "colab_type": "code",
        "colab": {}
      },
      "source": [
        "threshold_20_precision = thresholds[np.argmax(precisions >= 0.20)]"
      ],
      "execution_count": 0,
      "outputs": []
    },
    {
      "cell_type": "code",
      "metadata": {
        "id": "1559_5JWZGne",
        "colab_type": "code",
        "colab": {
          "base_uri": "https://localhost:8080/",
          "height": 33
        },
        "outputId": "f7a303ce-378f-40f9-a177-2782faa8f17f"
      },
      "source": [
        "threshold_20_precision"
      ],
      "execution_count": 66,
      "outputs": [
        {
          "output_type": "execute_result",
          "data": {
            "text/plain": [
              "True"
            ]
          },
          "metadata": {
            "tags": []
          },
          "execution_count": 66
        }
      ]
    },
    {
      "cell_type": "code",
      "metadata": {
        "id": "aX9OWq-iZKFk",
        "colab_type": "code",
        "colab": {}
      },
      "source": [
        "y_train_pred_20 = (y_scores >= threshold_20_precision)"
      ],
      "execution_count": 0,
      "outputs": []
    },
    {
      "cell_type": "code",
      "metadata": {
        "id": "v-e_91Q_ZPNq",
        "colab_type": "code",
        "colab": {
          "base_uri": "https://localhost:8080/",
          "height": 33
        },
        "outputId": "7caf1f26-91f4-4d3b-a6fb-6f38e8ab5f86"
      },
      "source": [
        "precision_score(y_train_5, y_train_pred_20)"
      ],
      "execution_count": 68,
      "outputs": [
        {
          "output_type": "execute_result",
          "data": {
            "text/plain": [
              "0.2591943957968476"
            ]
          },
          "metadata": {
            "tags": []
          },
          "execution_count": 68
        }
      ]
    },
    {
      "cell_type": "code",
      "metadata": {
        "id": "WzhZjrf7ZT2L",
        "colab_type": "code",
        "colab": {
          "base_uri": "https://localhost:8080/",
          "height": 33
        },
        "outputId": "337915ee-5240-4bda-e0f3-87d8618764d2"
      },
      "source": [
        "recall_score(y_train_5, y_train_pred_20)"
      ],
      "execution_count": 69,
      "outputs": [
        {
          "output_type": "execute_result",
          "data": {
            "text/plain": [
              "0.0888"
            ]
          },
          "metadata": {
            "tags": []
          },
          "execution_count": 69
        }
      ]
    },
    {
      "cell_type": "markdown",
      "metadata": {
        "id": "8oFi1YBvZbiw",
        "colab_type": "text"
      },
      "source": [
        "# ROC Curve"
      ]
    },
    {
      "cell_type": "code",
      "metadata": {
        "id": "2UuZbRTZZXrS",
        "colab_type": "code",
        "colab": {}
      },
      "source": [
        "from sklearn.metrics import roc_curve\n",
        "\n",
        "fpr, tpr, thresholds = roc_curve(y_train_5, y_scores)"
      ],
      "execution_count": 0,
      "outputs": []
    },
    {
      "cell_type": "code",
      "metadata": {
        "id": "UI3nV3i0ZfNH",
        "colab_type": "code",
        "colab": {
          "base_uri": "https://localhost:8080/",
          "height": 457
        },
        "outputId": "e90388e1-c42c-459d-edf5-fce9b0430181"
      },
      "source": [
        "def plot_roc_curve(fpr, tpr, label=None):\n",
        "    plt.plot(fpr, tpr, linewidth=2, label=label)\n",
        "    plt.plot([0, 1], [0, 1], 'k--') # dashed diagonal\n",
        "    plt.axis([0, 1, 0, 1])                                    # Not shown in the book\n",
        "    plt.xlabel('False Positive Rate (Fall-Out)', fontsize=16) # Not shown\n",
        "    plt.ylabel('True Positive Rate (Recall)', fontsize=16)    # Not shown\n",
        "    plt.grid(True)                                            # Not shown\n",
        "\n",
        "plt.figure(figsize=(8, 6))                         # Not shown\n",
        "plot_roc_curve(fpr, tpr)\n",
        "plt.plot([4.837e-3, 4.837e-3], [0., 0.4368], \"r:\") # Not shown\n",
        "plt.plot([0.0, 4.837e-3], [0.4368, 0.4368], \"r:\")  # Not shown\n",
        "plt.plot([4.837e-3], [0.4368], \"ro\")               # Not shown\n",
        "save_fig(\"roc_curve_plot\")                         # Not shown\n",
        "plt.show()"
      ],
      "execution_count": 71,
      "outputs": [
        {
          "output_type": "stream",
          "text": [
            "Saving figure roc_curve_plot\n"
          ],
          "name": "stdout"
        },
        {
          "output_type": "display_data",
          "data": {
            "image/png": "[encoded data removed]",
            "text/plain": [
              "<Figure size 576x432 with 1 Axes>"
            ]
          },
          "metadata": {
            "tags": []
          }
        }
      ]
    },
    {
      "cell_type": "code",
      "metadata": {
        "id": "Anf9siKSZjOW",
        "colab_type": "code",
        "colab": {
          "base_uri": "https://localhost:8080/",
          "height": 33
        },
        "outputId": "e06a0b59-4cf6-4a62-8685-5c58c524ca34"
      },
      "source": [
        "from sklearn.metrics import roc_auc_score\n",
        "\n",
        "roc_auc_score(y_train_5, y_scores)"
      ],
      "execution_count": 72,
      "outputs": [
        {
          "output_type": "execute_result",
          "data": {
            "text/plain": [
              "0.5303"
            ]
          },
          "metadata": {
            "tags": []
          },
          "execution_count": 72
        }
      ]
    }
  ]
}